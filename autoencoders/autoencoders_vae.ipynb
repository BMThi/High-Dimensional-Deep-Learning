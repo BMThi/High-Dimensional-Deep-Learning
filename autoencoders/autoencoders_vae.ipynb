{
 "cells": [
  {
   "cell_type": "markdown",
   "metadata": {},
   "source": [
    "# Autoencoders and VAEs"
   ]
  },
  {
   "cell_type": "markdown",
   "metadata": {},
   "source": [
    "Learning Outcomes:\n",
    "- Apply AEs and VAEs to different tasks: image compression and image generation.\n",
    "- Visualize the latent space.\n",
    "- Evaluate the impact of different regularization functions and hyper-parameters on the latent representations.\n",
    "- Generate images and interpolate between images using the VAE.\n",
    "- Transfer the learnt representation for use in supervised tasks."
   ]
  },
  {
   "cell_type": "markdown",
   "metadata": {},
   "source": [
    "## Library Imports"
   ]
  },
  {
   "cell_type": "code",
   "execution_count": 87,
   "metadata": {},
   "outputs": [
    {
     "name": "stdout",
     "output_type": "stream",
     "text": [
      "The autoreload extension is already loaded. To reload it, use:\n",
      "  %reload_ext autoreload\n",
      "cuda\n"
     ]
    }
   ],
   "source": [
    "%load_ext autoreload\n",
    "%autoreload 2\n",
    "\n",
    "import random\n",
    "\n",
    "import numpy as np\n",
    "import torch\n",
    "from torch.utils.data import DataLoader\n",
    "import torchvision\n",
    "import torch.nn as nn\n",
    "import torch.optim as optim\n",
    "import matplotlib.pyplot as plt\n",
    "\n",
    "\n",
    "device = torch.device(\"cuda\" if torch.cuda.is_available() else \"cpu\")\n",
    "print(device)"
   ]
  },
  {
   "cell_type": "markdown",
   "metadata": {},
   "source": [
    "## The MNIST dataset\n",
    "The MNIST dataset consists of **70,000 grayscale images** of handwritten digits (0 to 9). Each image is a **28x28 pixel** grayscale image. The training set contains 60,000 images while the test set contains 10,000 images. The grayscale values are integers ranging from 0 (black) to 255 (white). However, typicially the data is normalized to range between 0 and 1 for deep learning models.\n",
    "\n",
    "The MNIST dataset can be downloaded from the **torchvision** library, using the following code:"
   ]
  },
  {
   "cell_type": "code",
   "execution_count": 88,
   "metadata": {},
   "outputs": [],
   "source": [
    "# Load the MNIST dataset\n",
    "transform = torchvision.transforms.ToTensor()\n",
    "\n",
    "train_dataset = torchvision.datasets.MNIST(root='./data', train=True, download=True, transform=transform)\n",
    "test_dataset = torchvision.datasets.MNIST(root='./data', train=False, download=True, transform=transform)"
   ]
  },
  {
   "cell_type": "code",
   "execution_count": 89,
   "metadata": {},
   "outputs": [
    {
     "data": {
      "image/png": "[encoded data removed]",
      "text/plain": [
       "<Figure size 800x800 with 9 Axes>"
      ]
     },
     "metadata": {},
     "output_type": "display_data"
    }
   ],
   "source": [
    "# Plot 9 random images from the MNIST train dataset\n",
    "def plot_images(img_dataset):\n",
    "    \"\"\"Plots 9 random images from the given dataset\n",
    "\n",
    "    Args:\n",
    "        img_dataset (torch.utils.data.Dataset): The dataset to plot images from\n",
    "    \"\"\"\n",
    "    # Set up a 3x3 grid for plotting 9 random images\n",
    "    figure = plt.figure(figsize=(8, 8))\n",
    "    cols, rows = 3, 3\n",
    "    \n",
    "    # Plot 9 random images from the img_dataset\n",
    "    for i in range(1, cols * rows + 1):\n",
    "        random_idx = torch.randint(len(img_dataset), size=(1,)).item()  # Pick a random index\n",
    "        img, label = img_dataset[random_idx]  # Get the image and its label\n",
    "        figure.add_subplot(rows, cols, i)  # Add subplot\n",
    "        plt.title(f'Label: {label}')  # Set title to show the label\n",
    "        plt.axis(\"off\")  # Turn off axis\n",
    "        plt.imshow(img.squeeze(), cmap=\"gray\")  # Plot image\n",
    "    \n",
    "    plt.show()  # Display the figure\n",
    "\n",
    "plot_images(train_dataset)"
   ]
  },
  {
   "cell_type": "markdown",
   "metadata": {},
   "source": [
    "**Exercise.** The models that we will be using in this notebook will mainly consist of fully connected layers and activations (no convolutions). Prepare the data for use with such models (complete all the `TODO` flags below):\n",
    "1. Flatten the data.\n",
    "2. Normalize pixel values to the interval $[0, 1]$."
   ]
  },
  {
   "cell_type": "code",
   "execution_count": 90,
   "metadata": {},
   "outputs": [
    {
     "ename": "SyntaxError",
     "evalue": "invalid syntax (3339434928.py, line 2)",
     "output_type": "error",
     "traceback": [
      "\u001b[0;36m  Cell \u001b[0;32mIn[90], line 2\u001b[0;36m\u001b[0m\n\u001b[0;31m    train_dataset = train_dataset.data.view( , ).float() # TODO: Complete with the appropriate dimensions\u001b[0m\n\u001b[0m                                             ^\u001b[0m\n\u001b[0;31mSyntaxError\u001b[0m\u001b[0;31m:\u001b[0m invalid syntax\n"
     ]
    }
   ],
   "source": [
    "# Flatten the images\n",
    "train_dataset = train_dataset.data.view( , ).float() # TODO: Complete with the appropriate dimensions\n",
    "train_dataset = # TODO: Normalize pixel values.\n",
    "\n",
    "# TODO: Repeat the same for the test dataset"
   ]
  },
  {
   "cell_type": "code",
   "execution_count": 91,
   "metadata": {},
   "outputs": [
    {
     "name": "stdout",
     "output_type": "stream",
     "text": [
      "torch.Size([60000, 784])\n",
      "torch.Size([10000, 784])\n"
     ]
    }
   ],
   "source": [
    "# %load solutions/prepare_data.py\n",
    "# Flatten the images\n",
    "train_dataset = train_dataset.data.view(-1, 28*28).float()\n",
    "train_dataset = train_dataset / 255.0\n",
    "test_dataset = test_dataset.data.view(-1, 28*28).float()\n",
    "test_dataset = test_dataset / 255.0\n",
    "\n",
    "print(train_dataset.shape)\n",
    "print(test_dataset.shape)"
   ]
  },
  {
   "cell_type": "markdown",
   "metadata": {},
   "source": [
    "## I. A couple of examples\n",
    "We begin with a couple of examples that will prove useful in the sequel:\n",
    "1. How to train PCA on MNIST using `scikit-learn`.\n",
    "2. How to train a simple AE on MNIST using `Pytorch`.\n",
    "Don't hesitate to refer back to these examples in needed."
   ]
  },
  {
   "cell_type": "markdown",
   "metadata": {},
   "source": [
    "### I.1. **Example.** training and evaluating PCA\n",
    "In order to train and evaluate a PCA model, we use the PCA class provided by the `scikit-learn` dataset."
   ]
  },
  {
   "cell_type": "code",
   "execution_count": 92,
   "metadata": {},
   "outputs": [
    {
     "name": "stdout",
     "output_type": "stream",
     "text": [
      "PCA Reconstruction MSE on the train set: 0.034423\n",
      "PCA Reconstruction MSE on the test set: 0.034074\n"
     ]
    }
   ],
   "source": [
    "from sklearn.decomposition import PCA\n",
    "from sklearn.metrics import mean_squared_error\n",
    "\n",
    "# Instantiate a PCA model with the desired number of principal components\n",
    "pca = PCA(n_components=10)\n",
    "\n",
    "# Fit the PCA model to the training data\n",
    "pca.fit(train_dataset)\n",
    "\n",
    "# Evaluate the PCA model on the training and test data\n",
    "pca_reconstruction_train = pca.inverse_transform(pca.transform(train_dataset))\n",
    "pca_reconstruction_test = pca.inverse_transform(pca.transform(test_dataset))\n",
    "pca_mse_train = mean_squared_error(train_dataset, pca_reconstruction_train)\n",
    "pca_mse_test = mean_squared_error(test_dataset, pca_reconstruction_test)\n",
    "\n",
    "# Print the PCA reconstruction MSE on the training and test data\n",
    "print(f\"PCA Reconstruction MSE on the train set: {pca_mse_train:.6f}\")\n",
    "print(f\"PCA Reconstruction MSE on the test set: {pca_mse_test:.6f}\")"
   ]
  },
  {
   "cell_type": "markdown",
   "metadata": {},
   "source": [
    "### I.2. **Example.** Training and evaluating an AE\n",
    "\n",
    "In order to train and evaluate an AE model, we will use the `pytorch` library. For this example we will train a simple autoencoder with one fully connected layer plus activation in the encoder/decoder, and a free hidden dimension parameter. The steps we follow are:\n",
    "1. We create an `Autoencoder` class with the desired architecture and a free hidden dimension parameter.\n",
    "2. We prepare the data loaders to train the AE model using minibatch gradient descent.\n",
    "3. We instatiate a model of the `Autoencoder` class with the desired hidden dimension parameter.\n",
    "4. We define the loss and optimizer that will be used to train the AE.\n",
    "5. We perform the actual training.\n",
    "6. We evaluate the results."
   ]
  },
  {
   "cell_type": "markdown",
   "metadata": {},
   "source": [
    "#### I.2.1. Create the `Autoencoder` class\n",
    "In `pytorch`, a neural network model is defined as a class that inherits from `nn.Module`. The class must have an `__init__` method that defines the layers of the network and a `forward` method that defines how input data is passed through the network. The `forward` method should return the output of the network. In this case, the `Autoencoder` class has an encoder and a decoder. Fully connected layers are called `Linear` in `Pytorch`."
   ]
  },
  {
   "cell_type": "code",
   "execution_count": 93,
   "metadata": {},
   "outputs": [],
   "source": [
    "# Create the Autoencoder class\n",
    "\n",
    "class Autoencoder(nn.Module):\n",
    "    def __init__(self, hidden_dim):\n",
    "        super(Autoencoder, self).__init__()\n",
    "        \n",
    "        # Encoder: Linear layer with ReLU activation\n",
    "        self.encoder = nn.Sequential(\n",
    "            nn.Linear(28*28, hidden_dim),\n",
    "            nn.ReLU()\n",
    "        )\n",
    "\n",
    "        # Decoder: Linear layer with Sigmoid activation\n",
    "        self.decoder = nn.Sequential(\n",
    "            nn.Linear(hidden_dim, 28*28),\n",
    "            nn.Sigmoid()\n",
    "        )\n",
    "\n",
    "    def forward(self, x):\n",
    "        # Encode the input\n",
    "        x = self.encoder(x)\n",
    "        # Decode the latent representation\n",
    "        x = self.decoder(x)\n",
    "        return x"
   ]
  },
  {
   "cell_type": "markdown",
   "metadata": {},
   "source": [
    "#### I.2.2. Prepare the data loaders\n",
    "Data loaders are used to iterate through data in batches."
   ]
  },
  {
   "cell_type": "code",
   "execution_count": 94,
   "metadata": {},
   "outputs": [],
   "source": [
    "batch_size = 64\n",
    "\n",
    "train_loader = torch.utils.data.DataLoader(dataset=train_dataset, batch_size=batch_size, shuffle=True)\n",
    "test_loader  = torch.utils.data.DataLoader(dataset=test_dataset, batch_size=batch_size, shuffle=False)"
   ]
  },
  {
   "cell_type": "markdown",
   "metadata": {},
   "source": [
    "#### I.2.3. Instantiate the model\n",
    "We instantiate the model with a hidden dimension of 10. The `.to(device)` method moves the model to the GPU if available\n"
   ]
  },
  {
   "cell_type": "code",
   "execution_count": 95,
   "metadata": {},
   "outputs": [],
   "source": [
    "hidden_dim = 10\n",
    "\n",
    "simple_ae = Autoencoder(hidden_dim=hidden_dim).to(device)"
   ]
  },
  {
   "cell_type": "markdown",
   "metadata": {},
   "source": [
    "#### I.2.4. Define loss and optimizer\n",
    "Common loss functions can be access through pytorch's `.nn` module, whereas common optimizers are found in pytorch's `.optim` module. We have already imported both, as `nn` and `optim` respectively."
   ]
  },
  {
   "cell_type": "code",
   "execution_count": 96,
   "metadata": {},
   "outputs": [],
   "source": [
    "criterion = nn.MSELoss() # Mean Squared Error loss\n",
    "optimizer = optim.Adam(simple_ae.parameters(), lr=1e-3) # Adam optimizer"
   ]
  },
  {
   "cell_type": "markdown",
   "metadata": {},
   "source": [
    "#### I.2.5. Train the AE\n",
    "Before each gradient descent iteration, it is extremely important to reset the gradients of the weights to 0 using the method `.zero_grad()`, otherwise, the new gradients are accumulated to those of previous iterations."
   ]
  },
  {
   "cell_type": "code",
   "execution_count": 97,
   "metadata": {},
   "outputs": [
    {
     "name": "stdout",
     "output_type": "stream",
     "text": [
      "Epoch [1/10], Loss: 0.075541\n",
      "Epoch [2/10], Loss: 0.050808\n",
      "Epoch [3/10], Loss: 0.046295\n",
      "Epoch [4/10], Loss: 0.044818\n",
      "Epoch [5/10], Loss: 0.043996\n",
      "Epoch [6/10], Loss: 0.043507\n",
      "Epoch [7/10], Loss: 0.043203\n",
      "Epoch [8/10], Loss: 0.043026\n",
      "Epoch [9/10], Loss: 0.042907\n",
      "Epoch [10/10], Loss: 0.042827\n"
     ]
    }
   ],
   "source": [
    "num_epochs = 10\n",
    "\n",
    "for epoch in range(num_epochs):\n",
    "    simple_ae.train()\n",
    "    running_loss = 0.0\n",
    "    for images in train_loader:\n",
    "        # Move images to device\n",
    "        images = images.to(device)\n",
    "        \n",
    "        # Zero the gradients\n",
    "        optimizer.zero_grad()\n",
    "        \n",
    "        # Forward pass\n",
    "        outputs = simple_ae(images)\n",
    "        \n",
    "        # Compute loss\n",
    "        loss = criterion(outputs, images)\n",
    "        \n",
    "        # Backward pass and optimization\n",
    "        loss.backward()\n",
    "        optimizer.step()\n",
    "        \n",
    "        running_loss += loss.item() * images.size(0)\n",
    "    \n",
    "    epoch_loss = running_loss / len(train_loader.dataset)\n",
    "    print(f\"Epoch [{epoch+1}/{num_epochs}], Loss: {epoch_loss:.6f}\")"
   ]
  },
  {
   "cell_type": "markdown",
   "metadata": {},
   "source": [
    "#### I.2.6. Evaluate the results"
   ]
  },
  {
   "cell_type": "code",
   "execution_count": 98,
   "metadata": {},
   "outputs": [
    {
     "name": "stdout",
     "output_type": "stream",
     "text": [
      "Test Loss: 0.042534\n"
     ]
    }
   ],
   "source": [
    "simple_ae.eval()\n",
    "test_loss = 0.0\n",
    "with torch.no_grad():\n",
    "    for images in test_loader:\n",
    "        # Move images to the device\n",
    "        images = images.to(device)\n",
    "        \n",
    "        # Forward pass\n",
    "        outputs = simple_ae(images)\n",
    "        loss = criterion(outputs, images)\n",
    "        test_loss += loss.item() * images.size(0)\n",
    "\n",
    "    test_loss /= len(test_loader.dataset)\n",
    "    print(f\"Test Loss: {test_loss:.6f}\")"
   ]
  },
  {
   "cell_type": "markdown",
   "metadata": {},
   "source": [
    "## II. Autoencoders vs PCA\n",
    "\n",
    "The objective of this section is to review the following concepts, seen during the lesson:\n",
    "> 1. A linear autoencoder learnt on the reconstruction loss is equivalent to PCA.\n",
    "> 2. An autoencoder with nonlinear activations is more powerful than PCA."
   ]
  },
  {
   "cell_type": "markdown",
   "metadata": {},
   "source": [
    "\n",
    "### II.1. Linear AE vs PCA\n",
    "In order to compare linear AEs and PCA, we will perform a benchmarking experiment. We will compare the PCA model with $p$ principal components with an undercomplete autoencoder with $p$ hidden dimensions, for different values of $p$. As a matter of fact, we will be using multiple autoencoder architectures, the hidden dimension will always be $p$, but the width and depth of the autoencoders should vary (use at least the 4 possible combinations of 2 different widths and 2 different heights)."
   ]
  },
  {
   "cell_type": "markdown",
   "metadata": {},
   "source": [
    "#### II.1.1. PCA training\n",
    "Write a function that trains PCA with $p$ principal components by completing the `TODO` flag below."
   ]
  },
  {
   "cell_type": "code",
   "execution_count": 99,
   "metadata": {},
   "outputs": [],
   "source": [
    "def train_pca(p):\n",
    "    \"\"\"Trains a PCA model with p principal components\n",
    "\n",
    "    Args:\n",
    "        p (int): Number of principal components\n",
    "    \n",
    "    Returns:\n",
    "        PCA: Trained PCA model\n",
    "    \"\"\"\n",
    "\n",
    "    # TODO: Complete the function according to the docstring"
   ]
  },
  {
   "cell_type": "code",
   "execution_count": 100,
   "metadata": {},
   "outputs": [],
   "source": [
    "# %load solutions/pca.py\n",
    "def train_pca(p):\n",
    "    \"\"\"Trains a PCA model with p principal components\n",
    "\n",
    "    Args:\n",
    "        p (int): Number of principal components\n",
    "    \n",
    "    Returns:\n",
    "        PCA: Trained PCA model\n",
    "    \"\"\"\n",
    "\n",
    "    pca = PCA(n_components=p)\n",
    "    pca.fit(train_dataset)\n",
    "    return pca"
   ]
  },
  {
   "cell_type": "markdown",
   "metadata": {},
   "source": [
    "#### II.1.2. Linear AE training\n",
    "Write a function to train a linear autoencoder with the given hidden dimensions, width and depth by completing the `TODO` flags below."
   ]
  },
  {
   "cell_type": "code",
   "execution_count": 101,
   "metadata": {},
   "outputs": [],
   "source": [
    "for i in range(2,2):\n",
    "    print(i)"
   ]
  },
  {
   "cell_type": "code",
   "execution_count": 102,
   "metadata": {},
   "outputs": [],
   "source": [
    "class LinearAutoencoder(nn.Module):\n",
    "    def __init__(self, hidden_dim, width, depth):\n",
    "        super(LinearAutoencoder, self).__init__()\n",
    "        \n",
    "        # Intialize the encoder and decoder as empty Sequential models\n",
    "        # We will add layers dynamically to these Sequential models according to the depth\n",
    "        encoder = nn.Sequential()\n",
    "        decoder = nn.Sequential()\n",
    "\n",
    "        if depth < 1:\n",
    "            raise ValueError(\"Depth must be at least 1\") # TODO: Raise a ValueError\n",
    "\n",
    "        if depth == 1:\n",
    "            # In this case, we ignore the width parameter\n",
    "            # and add a single linear layer to the encoder and decoder\n",
    "            # with the appropriate dimensions.\n",
    "            # TODO: Add the linear layers to the encoder and decoder\n",
    "            encoder.add_module(\"linear_1\", nn.Linear(28*28, hidden_dim))\n",
    "            decoder.add_module(\"linear_1\", nn.Linear(hidden_dim, 28*28))\n",
    "\n",
    "        else:\n",
    "            # TODO: Add the first linear layer to the encoder\n",
    "            encoder.add_module(\"linear_1\", nn.Linear(28*28, width))\n",
    "            for i in range(2, depth):\n",
    "                # TODO: Add intermediate linear layers to the encoder\n",
    "                encoder.add_module(f\"linear_{i}\", nn.Linear(width, width))\n",
    "            # TODO: Add the last linear layer to the encoder\n",
    "            encoder.add_module(f\"linear_{depth}\", nn.Linear(width, hidden_dim))\n",
    "\n",
    "            # TODO: Add all necessary layers to the decoder\n",
    "            decoder.add_module(\"linear_1\", nn.Linear(hidden_dim, width))\n",
    "            for i in range(2, depth):\n",
    "                decoder.add_module(f\"linear_{i}\", nn.Linear(width, width))\n",
    "            decoder.add_module(f\"linear_{depth}\", nn.Linear(width, 28*28))\n",
    "\n",
    "        # Assign the encoder and decoder to self so that they are recognized as part of the model\n",
    "        self.encoder = encoder\n",
    "        self.decoder = decoder\n",
    "\n",
    "    # TODO: Implement the forward method\n",
    "    def forward(self, x):\n",
    "        # Encode the input\n",
    "        x = self.encoder(x)\n",
    "        # Decode the latent representation\n",
    "        x = self.decoder(x)\n",
    "        return x"
   ]
  },
  {
   "cell_type": "code",
   "execution_count": 103,
   "metadata": {},
   "outputs": [],
   "source": [
    "def train_autoencoder(hidden_dim, width, depth, epochs=5):\n",
    "    # Instantiate the LinearAutoencoder model\n",
    "    model = LinearAutoencoder(hidden_dim=hidden_dim, width=width, depth=depth).to(device)\n",
    "\n",
    "    # Define the criterion and optimizer\n",
    "    criterion = nn.MSELoss()\n",
    "    optimizer = optim.Adam(model.parameters(), lr=1e-3)\n",
    "    \n",
    "    # Train the model\n",
    "    for epoch in range(epochs):\n",
    "        model.train()\n",
    "        running_loss = 0.0\n",
    "        for images in train_loader:\n",
    "            # Move images to device\n",
    "            images = images.to(device)\n",
    "            # Zero the gradients\n",
    "            optimizer.zero_grad()\n",
    "            # Forward pass\n",
    "            outputs = model(images)\n",
    "            # Compute loss\n",
    "            loss = criterion(outputs, images)\n",
    "            # Backward pass and optimization\n",
    "            loss.backward()\n",
    "            optimizer.step()\n",
    "            # Update running loss\n",
    "            running_loss += loss.item() * images.size(0)\n",
    "\n",
    "        # Compute and print the epoch loss\n",
    "        epoch_loss = running_loss / len(train_loader.dataset)\n",
    "        print(f\"Epoch [{epoch+1}/{epochs}], Loss: {epoch_loss:.6f}\")\n",
    "\n",
    "    return model, epoch_loss"
   ]
  },
  {
   "cell_type": "markdown",
   "metadata": {},
   "source": [
    "#### II.1.3. Running the benchmark\n",
    "Complete all the `TODO` flags below and perform the benchmark. Feel free to change the arrays `hidden_dims`, `ae_widths` and `ae_depths`."
   ]
  },
  {
   "cell_type": "code",
   "execution_count": 104,
   "metadata": {},
   "outputs": [],
   "source": [
    "def run_benchmark(hidden_dims, ae_widths, ae_depths):\n",
    "    \"\"\"Runs a benchmark on the given hidden dimensions, autoencoder widths, and autoencoder depths\n",
    "\n",
    "    Args:\n",
    "        hidden_dims (list): A list of hidden dimensions / principal components to test\n",
    "        ae_widths (list): A list of autoencoder widths to test\n",
    "        ae_depths (list): A list of autoencoder depths to test\n",
    "    \"\"\"\n",
    "    \n",
    "    # Initialize dictionaries to store results\n",
    "    pca_train_loss = {}\n",
    "    pca_test_loss = {}\n",
    "    ae_train_loss = {}\n",
    "    ae_test_loss = {}\n",
    "\n",
    "    # Iterate through the hidden dimensions\n",
    "    for p in hidden_dims:\n",
    "        # Train the PCA model\n",
    "        print(f\"Training PCA model with {p} hidden dims\")\n",
    "\n",
    "        # TODO: Train a PCA model with p hidden dimensions\n",
    "        pca = train_pca(p)\n",
    "\n",
    "        # TODO: Build reconstruction of train/test data using the PCA model\n",
    "        pca_reconstruction_train = pca.inverse_transform(pca.transform(train_dataset))\n",
    "        pca_reconstruction_test = pca.inverse_transform(pca.transform(test_dataset))\n",
    "\n",
    "        mse_train_pca = mean_squared_error(train_dataset, pca_reconstruction_train) # TODO: Evaluate the PCA model on train data\n",
    "        mse_test_pca = mean_squared_error(test_dataset, pca_reconstruction_test) # TODO: Evaluate the PCA model on validation data\n",
    "        print(f\"Train MSE: {mse_train_pca}, Test MSE: {mse_test_pca}\")\n",
    "        \n",
    "        pca_train_loss[p] = mse_train_pca\n",
    "        pca_test_loss[p] = mse_test_pca\n",
    "\n",
    "        # Iterate through the autoencoder widths and depths\n",
    "        for width in ae_widths:\n",
    "            for depth in ae_depths:\n",
    "                # Train the autoencoder model\n",
    "                print(f\"Training autoencoder with {p} hidden dims, width={width}, depth={depth}\")\n",
    "\n",
    "                # TODO: Initialize and train the autoencoder model\n",
    "                model, train_loss = train_autoencoder(hidden_dim=p, width=width, depth=depth)\n",
    "\n",
    "                # TODO: Build reconstruction of test data using the autoencoder model\n",
    "                model.eval()\n",
    "                test_loss = 0.0\n",
    "                with torch.no_grad():\n",
    "                    for images in test_loader:\n",
    "                        images = images.to(device)\n",
    "                        outputs = model(images)\n",
    "                        loss = criterion(outputs, images)\n",
    "                        test_loss += loss.item() * images.size(0)\n",
    "                    \n",
    "                    test_loss /= len(test_loader.dataset)\n",
    "                \n",
    "                mse_train_ae = train_loss # TODO: Evaluate the autoencoder model on train data\n",
    "                mse_test_ae = test_loss # TODO: Evaluate the autoencoder model on validation data\n",
    "                ae_train_loss[(p, width, depth)] = mse_train_ae\n",
    "                ae_test_loss[(p, width, depth)] = mse_test_ae\n",
    "                print(f\"Train MSE: {mse_train_ae}, Test MSE: {mse_test_ae}\")\n",
    "\n",
    "    return pca_train_loss, pca_test_loss, ae_train_loss, ae_test_loss"
   ]
  },
  {
   "cell_type": "code",
   "execution_count": 105,
   "metadata": {},
   "outputs": [
    {
     "name": "stdout",
     "output_type": "stream",
     "text": [
      "Training PCA model with 1 hidden dims\n"
     ]
    },
    {
     "name": "stdout",
     "output_type": "stream",
     "text": [
      "Train MSE: 0.060724806346546686, Test MSE: 0.060733427854532285\n",
      "Training autoencoder with 1 hidden dims, width=64, depth=1\n",
      "Epoch [1/5], Loss: 0.164706\n",
      "Epoch [2/5], Loss: 0.067065\n",
      "Epoch [3/5], Loss: 0.066564\n",
      "Epoch [4/5], Loss: 0.066239\n",
      "Epoch [5/5], Loss: 0.065628\n",
      "Train MSE: 0.06562845644156139, Test MSE: 0.06528732098340988\n",
      "Training autoencoder with 1 hidden dims, width=64, depth=2\n",
      "Epoch [1/5], Loss: 0.063496\n",
      "Epoch [2/5], Loss: 0.061007\n",
      "Epoch [3/5], Loss: 0.060982\n",
      "Epoch [4/5], Loss: 0.060958\n",
      "Epoch [5/5], Loss: 0.060919\n",
      "Train MSE: 0.06091865050792694, Test MSE: 0.06085853525400162\n",
      "Training autoencoder with 1 hidden dims, width=64, depth=3\n",
      "Epoch [1/5], Loss: 0.062092\n",
      "Epoch [2/5], Loss: 0.060920\n",
      "Epoch [3/5], Loss: 0.060906\n",
      "Epoch [4/5], Loss: 0.060898\n",
      "Epoch [5/5], Loss: 0.060883\n",
      "Train MSE: 0.06088250232338906, Test MSE: 0.060939632165431974\n",
      "Training PCA model with 2 hidden dims\n",
      "Train MSE: 0.05595270364213887, Test MSE: 0.0556694920539412\n",
      "Training autoencoder with 2 hidden dims, width=64, depth=1\n",
      "Epoch [1/5], Loss: 0.102346\n",
      "Epoch [2/5], Loss: 0.065377\n",
      "Epoch [3/5], Loss: 0.063792\n",
      "Epoch [4/5], Loss: 0.060833\n",
      "Epoch [5/5], Loss: 0.058363\n",
      "Train MSE: 0.05836288087368011, Test MSE: 0.05764209825992584\n",
      "Training autoencoder with 2 hidden dims, width=64, depth=2\n",
      "Epoch [1/5], Loss: 0.058614\n",
      "Epoch [2/5], Loss: 0.056159\n",
      "Epoch [3/5], Loss: 0.056130\n",
      "Epoch [4/5], Loss: 0.056112\n",
      "Epoch [5/5], Loss: 0.056094\n",
      "Train MSE: 0.05609407675862312, Test MSE: 0.05583867268562317\n",
      "Training autoencoder with 2 hidden dims, width=64, depth=3\n",
      "Epoch [1/5], Loss: 0.057926\n",
      "Epoch [2/5], Loss: 0.056168\n",
      "Epoch [3/5], Loss: 0.056142\n",
      "Epoch [4/5], Loss: 0.056118\n",
      "Epoch [5/5], Loss: 0.056099\n",
      "Train MSE: 0.05609859068195025, Test MSE: 0.05583365321755409\n",
      "Training PCA model with 4 hidden dims\n",
      "Train MSE: 0.048179454093877486, Test MSE: 0.04790346675178727\n",
      "Training autoencoder with 4 hidden dims, width=64, depth=1\n",
      "Epoch [1/5], Loss: 0.078149\n",
      "Epoch [2/5], Loss: 0.055390\n",
      "Epoch [3/5], Loss: 0.050047\n",
      "Epoch [4/5], Loss: 0.049176\n",
      "Epoch [5/5], Loss: 0.048941\n",
      "Train MSE: 0.048941377840439476, Test MSE: 0.048609440094232556\n",
      "Training autoencoder with 4 hidden dims, width=64, depth=2\n",
      "Epoch [1/5], Loss: 0.051209\n",
      "Epoch [2/5], Loss: 0.048395\n",
      "Epoch [3/5], Loss: 0.048361\n",
      "Epoch [4/5], Loss: 0.048348\n",
      "Epoch [5/5], Loss: 0.048324\n",
      "Train MSE: 0.04832426745295525, Test MSE: 0.048005945092439654\n",
      "Training autoencoder with 4 hidden dims, width=64, depth=3\n",
      "Epoch [1/5], Loss: 0.050672\n",
      "Epoch [2/5], Loss: 0.048406\n",
      "Epoch [3/5], Loss: 0.048381\n",
      "Epoch [4/5], Loss: 0.048363\n",
      "Epoch [5/5], Loss: 0.048347\n",
      "Train MSE: 0.04834697837034861, Test MSE: 0.04798425650596619\n",
      "Training PCA model with 8 hidden dims\n",
      "Train MSE: 0.03786521729268966, Test MSE: 0.03744099887283317\n",
      "Training autoencoder with 8 hidden dims, width=64, depth=1\n",
      "Epoch [1/5], Loss: 0.062448\n",
      "Epoch [2/5], Loss: 0.041923\n",
      "Epoch [3/5], Loss: 0.038843\n",
      "Epoch [4/5], Loss: 0.038112\n",
      "Epoch [5/5], Loss: 0.038029\n",
      "Train MSE: 0.03802888034582138, Test MSE: 0.03760782999992371\n",
      "Training autoencoder with 8 hidden dims, width=64, depth=2\n",
      "Epoch [1/5], Loss: 0.042181\n",
      "Epoch [2/5], Loss: 0.038070\n",
      "Epoch [3/5], Loss: 0.038044\n",
      "Epoch [4/5], Loss: 0.038025\n",
      "Epoch [5/5], Loss: 0.038022\n",
      "Train MSE: 0.03802195826570193, Test MSE: 0.03760779260396958\n",
      "Training autoencoder with 8 hidden dims, width=64, depth=3\n",
      "Epoch [1/5], Loss: 0.041804\n",
      "Epoch [2/5], Loss: 0.038137\n",
      "Epoch [3/5], Loss: 0.038079\n",
      "Epoch [4/5], Loss: 0.038046\n",
      "Epoch [5/5], Loss: 0.038028\n",
      "Train MSE: 0.03802770341436068, Test MSE: 0.03754238461256027\n",
      "Training PCA model with 16 hidden dims\n",
      "Train MSE: 0.027292815829186662, Test MSE: 0.026860301095620133\n",
      "Training autoencoder with 16 hidden dims, width=64, depth=1\n",
      "Epoch [1/5], Loss: 0.048239\n",
      "Epoch [2/5], Loss: 0.029421\n",
      "Epoch [3/5], Loss: 0.027631\n",
      "Epoch [4/5], Loss: 0.027436\n",
      "Epoch [5/5], Loss: 0.027410\n",
      "Train MSE: 0.02740978980064392, Test MSE: 0.026951728132367136\n",
      "Training autoencoder with 16 hidden dims, width=64, depth=2\n",
      "Epoch [1/5], Loss: 0.033355\n",
      "Epoch [2/5], Loss: 0.027519\n",
      "Epoch [3/5], Loss: 0.027484\n",
      "Epoch [4/5], Loss: 0.027474\n",
      "Epoch [5/5], Loss: 0.027462\n",
      "Train MSE: 0.027462367552518845, Test MSE: 0.026997985646128656\n",
      "Training autoencoder with 16 hidden dims, width=64, depth=3\n",
      "Epoch [1/5], Loss: 0.033549\n",
      "Epoch [2/5], Loss: 0.027529\n",
      "Epoch [3/5], Loss: 0.027503\n",
      "Epoch [4/5], Loss: 0.027485\n",
      "Epoch [5/5], Loss: 0.027470\n",
      "Train MSE: 0.02746969405512015, Test MSE: 0.02700193092226982\n"
     ]
    }
   ],
   "source": [
    "hidden_dims = [1, 2, 4, 8, 16]\n",
    "ae_widths = [64] # We will only test one width, otherwise it takes too long...\n",
    "ae_depths = [1, 2, 3]\n",
    "\n",
    "# Run the benchmark\n",
    "pca_train_loss, pca_test_loss, ae_train_loss, ae_test_loss = run_benchmark(hidden_dims, ae_widths, ae_depths)"
   ]
  },
  {
   "cell_type": "markdown",
   "metadata": {},
   "source": [
    "#### II.1.4. Visualize the results\n",
    "Compare the losses of the different models by plotting them into two similar graphs, one for the training MSE and another one for the Test MSE:\n",
    "- The $x$-axis should contain the different values $p$ for the hidden dimensions / principal components (in logarithmic scale).\n",
    "- The $y$-axis should contain the corresponding MSE values.\n",
    "- There should be one curve permodel, with its own color and label."
   ]
  },
  {
   "cell_type": "code",
   "execution_count": 106,
   "metadata": {},
   "outputs": [
    {
     "data": {
      "image/png": "[encoded data removed]",
      "text/plain": [
       "<Figure size 1400x600 with 2 Axes>"
      ]
     },
     "metadata": {},
     "output_type": "display_data"
    }
   ],
   "source": [
    "from collections import defaultdict\n",
    "\n",
    "def plot_losses(pca_train_loss, pca_test_loss, ae_train_loss, ae_test_loss):\n",
    "    \"\"\"Plots the training and test losses for the PCA and autoencoder models.\n",
    "    Produces two side-to-side plots for the train losses on the left \n",
    "    and the test losses on the right.\n",
    "\n",
    "    Args:\n",
    "        pca_train_loss (dict): Dictionary of PCA training losses\n",
    "        pca_test_loss (dict): Dictionary of PCA test losses\n",
    "        ae_train_loss (dict): Dictionary of autoencoder training losses (keys are tuples of (hidden_dim, width, depth))\n",
    "        ae_test_loss (dict): Dictionary of autoencoder test losses (keys are tuples of (hidden_dim, width, depth))\n",
    "    \"\"\"\n",
    "    # Create dictionaries to group the autoencoder losses by width and depth\n",
    "    ae_train_grouped = defaultdict(list)\n",
    "    ae_test_grouped = defaultdict(list)\n",
    "\n",
    "    # Group losses by (width, depth) to have one curve per autoencoder model\n",
    "    for (hidden_dim, width, depth), loss in ae_train_loss.items():\n",
    "        ae_train_grouped[(width, depth)].append((hidden_dim, loss))\n",
    "\n",
    "    for (hidden_dim, width, depth), loss in ae_test_loss.items():\n",
    "        ae_test_grouped[(width, depth)].append((hidden_dim, loss))\n",
    "\n",
    "    # Sort the losses by hidden_dim for each autoencoder model\n",
    "    for key in ae_train_grouped:\n",
    "        ae_train_grouped[key] = sorted(ae_train_grouped[key], key=lambda x: x[0])\n",
    "    for key in ae_test_grouped:\n",
    "        ae_test_grouped[key] = sorted(ae_test_grouped[key], key=lambda x: x[0])\n",
    "\n",
    "    # Create a figure with two subplots, side-by-side\n",
    "    fig, ax = plt.subplots(1, 2, figsize=(14, 6))\n",
    "\n",
    "    # Plot PCA losses\n",
    "    ax[0].plot(list(pca_train_loss.keys()), list(pca_train_loss.values()), label='PCA Train Loss', marker='o')\n",
    "    ax[1].plot(list(pca_test_loss.keys()), list(pca_test_loss.values()), label='PCA Test Loss', marker='o')\n",
    "\n",
    "    # Plot Autoencoder losses grouped by (width, depth)\n",
    "    for (width, depth), values in ae_train_grouped.items():\n",
    "        hidden_dims = [v[0] for v in values]\n",
    "        losses = [v[1] for v in values]\n",
    "        ax[0].plot(hidden_dims, losses, label=f'AE Train Loss (width={width}, depth={depth})', marker='o')\n",
    "\n",
    "    for (width, depth), values in ae_test_grouped.items():\n",
    "        hidden_dims = [v[0] for v in values]\n",
    "        losses = [v[1] for v in values]\n",
    "        ax[1].plot(hidden_dims, losses, label=f'AE Test Loss (width={width}, depth={depth})', marker='o')\n",
    "\n",
    "    # Set titles and labels\n",
    "    ax[0].set_title('Training Losses')\n",
    "    ax[0].set_xlabel('Hidden Dimension')\n",
    "    ax[0].set_ylabel('Loss')\n",
    "    ax[0].legend()\n",
    "    ax[0].grid(True)\n",
    "\n",
    "    ax[1].set_title('Test Losses')\n",
    "    ax[1].set_xlabel('Hidden Dimension')\n",
    "    ax[1].set_ylabel('Loss')\n",
    "    ax[1].legend()\n",
    "    ax[1].grid(True)\n",
    "\n",
    "    # Adjust layout for better spacing\n",
    "    plt.tight_layout()\n",
    "    plt.show()\n",
    "\n",
    "plot_losses(pca_train_loss, pca_test_loss, ae_train_loss, ae_test_loss)"
   ]
  },
  {
   "cell_type": "markdown",
   "metadata": {},
   "source": [
    "#### II.1.5. Conclusion\n",
    "Think about the following questions, do not hesitate to call us (the teaching staff) for a brief discussion about them !\n",
    "- Can we see any difference between a linear AE and PCA?\n",
    "- Does increasing depth/width have an impact on the performance of the linear AE? Why?\n",
    "- For the task of data compression, if you had to choose between PCA with $p$ principal components, or a linear AE with $p$ hidden dimensions, which model would you choose? What are the reasons behind your choice?"
   ]
  },
  {
   "cell_type": "markdown",
   "metadata": {},
   "source": [
    "### II.2. Nonlinear AEs vs PCA\n",
    "In this section we will compare the different non-linear AE models seen during the lesson to our PCA baseline. Indeed, if we are going to adopt an AE model for a given task, we will need to make sure that its performance is better than that of PCA, otherwise there is no point on adopting a more complex architecture.\n",
    "The models we will evaluate are the ones seen during the lesson:\n",
    "> - Undercomplete AE\n",
    "> - Sparse AE\n",
    "> - Denoising AE\n",
    "> - Contracting AE\n",
    "\n",
    "Once more, we will perform a benchmarking experiment in order to evaluate the different AE models and  compare them agains PCA and against each other.\n",
    "\n",
    "Throughout this section, we will fix: \n",
    "- The number of hidden dimensions (except for the sparse AE).\n",
    "- The depth of the AE architectures to be defined. \n",
    "- The width of the AE architectures to be defined.\n",
    "- The batch size.\n",
    "- The number of training epochs."
   ]
  },
  {
   "cell_type": "code",
   "execution_count": 107,
   "metadata": {},
   "outputs": [],
   "source": [
    "INPUT_DIM = 28*28\n",
    "HIDDEN_DIM = 10\n",
    "WIDTH = 128\n",
    "DEPTH = 2\n",
    "BATCH_SIZE = 64\n",
    "EPOCHS = 5"
   ]
  },
  {
   "cell_type": "markdown",
   "metadata": {},
   "source": [
    "For each of the different models that we are studying, we will need to:\n",
    "- Define the architecture.\n",
    "- Train the model with different hyper-parameters.\n",
    "- Select the hyper-parameters corresponding to the best model.\n",
    "- Evaluate the model.\n",
    "\n",
    "As it is customary in Deep Learning practice, the hyper-parameter optimization is done with the help of a validation set, therefore, we will split the test dataset into a validation dataset and a proper test dataset, and prepare the corresponding data loaders."
   ]
  },
  {
   "cell_type": "code",
   "execution_count": 108,
   "metadata": {},
   "outputs": [],
   "source": [
    "# Split test data into validation and test sets\n",
    "val_dataset, test_dataset = torch.utils.data.random_split(test_dataset, [5000, 5000])\n",
    "\n",
    "train_loader = torch.utils.data.DataLoader(dataset=train_dataset, batch_size=BATCH_SIZE, shuffle=True)\n",
    "val_loader = torch.utils.data.DataLoader(dataset=val_dataset, batch_size=BATCH_SIZE, shuffle=False)\n",
    "test_loader = torch.utils.data.DataLoader(dataset=test_dataset, batch_size=BATCH_SIZE, shuffle=False)"
   ]
  },
  {
   "cell_type": "markdown",
   "metadata": {},
   "source": [
    "**Exercice.** In order to perform the benchmark explained above, complete the following sections by addressing all the `TODO` flags in them:\n",
    "1. Define the different architectures.\n",
    "2. Prepare the training pipe-line with all alements common to all of the models below.\n",
    "3. Train and evaluate the undercomplete AE. Select the best model after hyper-parameter optimization.\n",
    "4. Train and evaluate the sparse AE.Select the best model after hyper-parameter optimization.\n",
    "5. Train and evaluate the denoising AE.Select the best model after hyper-parameter optimization.\n",
    "6. Train and evaluate the contractive AE.Select the best model after hyper-parameter optimization.\n",
    "7. Compare the performance (MSE loss) of the best models from sections 2--5 (after hyper-parameter optimization).\n",
    "8. Visualize the image reconstructions for each of the best models from sections 2--5."
   ]
  },
  {
   "cell_type": "markdown",
   "metadata": {},
   "source": [
    "#### II.2.1. Architectures\n",
    "**Question.** How many different architectures should we define ?"
   ]
  },
  {
   "cell_type": "code",
   "execution_count": 109,
   "metadata": {},
   "outputs": [],
   "source": [
    "# TODO: Define a general autoencoder architecture with the fixed global parameters\n",
    "\n",
    "class Autoencoder(nn.Module):\n",
    "    def __init__(self):\n",
    "        super(Autoencoder, self).__init__()\n",
    "        \n",
    "        # Encoder: Linear layer with ReLU activation\n",
    "        self.encoder = nn.Sequential(\n",
    "            nn.Linear(INPUT_DIM, WIDTH),\n",
    "            nn.ReLU(),\n",
    "            nn.Linear(WIDTH, HIDDEN_DIM),\n",
    "            nn.ReLU()\n",
    "        )\n",
    "\n",
    "        # Decoder: Linear layer with Sigmoid activation\n",
    "        self.decoder = nn.Sequential(\n",
    "            nn.Linear(HIDDEN_DIM, WIDTH),\n",
    "            nn.ReLU(),\n",
    "            nn.Linear(WIDTH, INPUT_DIM),\n",
    "            nn.Sigmoid()\n",
    "        )\n",
    "\n",
    "    def forward(self, x):\n",
    "        # Encode the input\n",
    "        x = self.encoder(x)\n",
    "        # Decode the latent representation\n",
    "        x = self.decoder(x)\n",
    "        return x"
   ]
  },
  {
   "cell_type": "code",
   "execution_count": 110,
   "metadata": {},
   "outputs": [],
   "source": [
    "# TODO: Define any other necessary architectures\n",
    "\n",
    "class SparseAE(nn.Module):\n",
    "    def __init__(self):\n",
    "        super(SparseAE, self).__init__()\n",
    "        \n",
    "        # Encoder: Linear layer with ReLU activation\n",
    "        self.encoder = nn.Sequential(\n",
    "            nn.Linear(INPUT_DIM, WIDTH),\n",
    "            nn.ReLU(),\n",
    "            nn.Linear(WIDTH, WIDTH),\n",
    "            nn.ReLU()\n",
    "        )\n",
    "\n",
    "        # Decoder: Linear layer with Sigmoid activation\n",
    "        self.decoder = nn.Sequential(\n",
    "            nn.Linear(WIDTH, WIDTH),\n",
    "            nn.ReLU(),\n",
    "            nn.Linear(WIDTH, INPUT_DIM),\n",
    "            nn.Sigmoid()\n",
    "        )\n",
    "\n",
    "    def forward(self, x):\n",
    "        # Encode the input\n",
    "        x = self.encoder(x)\n",
    "        # Decode the latent representation\n",
    "        x = self.decoder(x)\n",
    "        return x"
   ]
  },
  {
   "cell_type": "markdown",
   "metadata": {},
   "source": [
    "#### II.2.3. Undercomplete AE\n",
    "**Question.** Are there any hyper-parameters involved in the training loss of an undercomplete AE?"
   ]
  },
  {
   "cell_type": "code",
   "execution_count": 111,
   "metadata": {},
   "outputs": [],
   "source": [
    "# TODO: Encode training pipeline into a function\n",
    "\n",
    "def train_model(model, \n",
    "                train_loader, \n",
    "                val_loader,\n",
    "                criterion=nn.MSELoss(),\n",
    "                optimizer=optim.Adam, \n",
    "                learning_rate=1e-3,\n",
    "                epochs=5):\n",
    "    \"\"\"Trains the given model using the specified criterion and optimizer\n",
    "\n",
    "    Args:\n",
    "        model (nn.Module): The model to train\n",
    "        train_loader (DataLoader): DataLoader for the training set\n",
    "        val_loader (DataLoader): DataLoader for the validation set\n",
    "        criterion (nn.Module): The loss function to use\n",
    "        optimizer (torch.optim.Optimizer): The optimizer to use\n",
    "        epochs (int): Number of epochs to train the model\n",
    "\n",
    "    Returns:\n",
    "        tuple: A tuple containing the trained model and a list of the training losses\n",
    "    \"\"\"\n",
    "    # Set the model to training mode\n",
    "    model.train()\n",
    "\n",
    "    # Initialize optimizer with model parameters\n",
    "    optimizer = optimizer(model.parameters(), lr=learning_rate)\n",
    "\n",
    "    # Store the training and validation losses\n",
    "    train_losses = []\n",
    "    val_losses = []\n",
    "\n",
    "    # Loop over the epochs\n",
    "    for epoch in range(epochs):\n",
    "        running_train_loss = 0.0\n",
    "        running_val_loss = 0.0\n",
    "        \n",
    "        # Loop over the training data\n",
    "        for images in train_loader:\n",
    "            # Move images to device\n",
    "            images = images.to(device)\n",
    "\n",
    "            # Zero the gradients\n",
    "            optimizer.zero_grad()\n",
    "\n",
    "            # Forward pass\n",
    "            outputs = model(images)\n",
    "\n",
    "            # Compute loss\n",
    "            loss = criterion(outputs, images)\n",
    "\n",
    "            # Backward pass and optimization\n",
    "            loss.backward()\n",
    "            optimizer.step()\n",
    "\n",
    "            # Accumulate training loss\n",
    "            running_train_loss += loss.item()\n",
    "\n",
    "        # Compute average training loss for the epoch\n",
    "        train_loss = running_train_loss / len(train_loader)\n",
    "        train_losses.append(train_loss)\n",
    "\n",
    "        # Validation loop\n",
    "        model.eval()  # Set model to evaluation mode\n",
    "        with torch.no_grad():  # Disable gradient calculation for validation\n",
    "            for images in val_loader:\n",
    "                # Move images to device\n",
    "                images = images.to(device)\n",
    "\n",
    "                # Forward pass\n",
    "                outputs = model(images)\n",
    "\n",
    "                # Compute loss\n",
    "                loss = criterion(outputs, images)\n",
    "\n",
    "                # Accumulate validation loss\n",
    "                running_val_loss += loss.item()\n",
    "\n",
    "        # Compute average validation loss for the epoch\n",
    "        val_loss = running_val_loss / len(val_loader)\n",
    "        val_losses.append(val_loss)\n",
    "\n",
    "        # Print training and validation statistics for the epoch\n",
    "        print(f'Epoch [{epoch+1}/{epochs}], Training Loss: {train_loss:.4f}, Validation Loss: {val_loss:.4f}')\n",
    "\n",
    "        # Set model back to training mode\n",
    "        model.train()\n",
    "\n",
    "    # Return the trained model and the lists of training and validation losses\n",
    "    return model, (train_losses, val_losses)\n"
   ]
  },
  {
   "cell_type": "code",
   "execution_count": 114,
   "metadata": {},
   "outputs": [
    {
     "name": "stdout",
     "output_type": "stream",
     "text": [
      "Epoch [1/5], Training Loss: 0.0441, Validation Loss: 0.0294\n",
      "Epoch [2/5], Training Loss: 0.0274, Validation Loss: 0.0256\n",
      "Epoch [3/5], Training Loss: 0.0251, Validation Loss: 0.0242\n",
      "Epoch [4/5], Training Loss: 0.0240, Validation Loss: 0.0233\n",
      "Epoch [5/5], Training Loss: 0.0233, Validation Loss: 0.0227\n"
     ]
    }
   ],
   "source": [
    "# TODO: Train the undercomplete AE\n",
    "\n",
    "# Instantiate the model\n",
    "undercomplete_ae = Autoencoder().to(device)\n",
    "\n",
    "# Set the criterion and optimizer\n",
    "criterion = nn.MSELoss() # Mean Squared Error loss\n",
    "optimizer = optim.Adam(undercomplete_ae.parameters(), lr=1e-3) # Adam optimizer\n",
    "\n",
    "# Store the training and validation losses\n",
    "train_losses = []\n",
    "val_losses = []\n",
    "\n",
    "num_epochs = EPOCHS\n",
    "\n",
    "for epoch in range(num_epochs):\n",
    "    undercomplete_ae.train()\n",
    "    running_train_loss = 0.0\n",
    "    running_val_loss = 0.0\n",
    "\n",
    "    # Training loop\n",
    "    for images in train_loader:\n",
    "        # Move images to device\n",
    "        images = images.to(device)\n",
    "        \n",
    "        # Zero the gradients\n",
    "        optimizer.zero_grad()\n",
    "        \n",
    "        # Forward pass\n",
    "        outputs = undercomplete_ae(images)\n",
    "        \n",
    "        # Compute loss\n",
    "        loss = criterion(outputs, images)\n",
    "        \n",
    "        # Backward pass and optimization\n",
    "        loss.backward()\n",
    "        optimizer.step()\n",
    "        \n",
    "        # Accumulate training loss\n",
    "        running_train_loss += loss.item() * images.size(0)\n",
    "    \n",
    "    # Compute average training loss for the epoch\n",
    "    train_loss = running_train_loss  / len(train_loader.dataset)\n",
    "    train_losses.append(train_loss)\n",
    "\n",
    "    # Validation loop\n",
    "    undercomplete_ae.eval()  # Set model to evaluation mode\n",
    "    with torch.no_grad():  # Disable gradient calculation for validation\n",
    "        for images in val_loader:\n",
    "            # Move images to device\n",
    "            images = images.to(device)\n",
    "\n",
    "            # Forward pass\n",
    "            outputs = undercomplete_ae(images)\n",
    "\n",
    "            # Compute loss\n",
    "            loss = criterion(outputs, images)\n",
    "\n",
    "            # Accumulate validation loss\n",
    "            running_val_loss += loss.item()\n",
    "\n",
    "    # Compute average validation loss for the epoch\n",
    "    val_loss = running_val_loss / len(val_loader)\n",
    "    val_losses.append(val_loss)\n",
    "\n",
    "    # Print training and validation statistics for the epoch\n",
    "    print(f'Epoch [{epoch+1}/{num_epochs}], Training Loss: {train_loss:.4f}, Validation Loss: {val_loss:.4f}')\n"
   ]
  },
  {
   "cell_type": "markdown",
   "metadata": {},
   "source": [
    "#### II.2.2. Sparse AE\n",
    "We have seen that in order to train a sparse AE, we need to set a target sparsity parameter $\\rho$. In fact, we are only going to enforce sparsity in the hidden layer, and not on the layers of the encoder / decoder.\n",
    "\n",
    "**Question.** In order to ensure fair comparison between the other Autoencoder architectures and the sparse AE, what sparsity parameter $\\rho$ should we choose?\n",
    "\n",
    "**Question.** Other than the sparsity parameter, are there any additional hyper-parameters involved in the training loss of a sparse AE? "
   ]
  },
  {
   "cell_type": "code",
   "execution_count": 113,
   "metadata": {},
   "outputs": [],
   "source": [
    "# TODO: Train the sparse AE\n",
    "\n",
    "# Set the hyper-parameters\n",
    "sparsity_param = 10/128  # 10 active hidden units on average\n",
    "sparsity_weights = [0.3, 1, 3, 10]  # Weights to test for sparsity penalty\n",
    "\n",
    "# Set the criterion\n",
    "criterion = nn.MSELoss()\n",
    "\n",
    "# Instantiate the model\n",
    "sparse_ae = SparseAE().to(device)\n",
    "\n",
    "# Set the criterion\n",
    "\n"
   ]
  },
  {
   "cell_type": "markdown",
   "metadata": {},
   "source": [
    "#### II.2.3. Denoising AE\n",
    "**Question.** Are there any new hyper-parameters involved in the training of the Denoising AE?"
   ]
  },
  {
   "cell_type": "code",
   "execution_count": 117,
   "metadata": {},
   "outputs": [
    {
     "name": "stdout",
     "output_type": "stream",
     "text": [
      "Training denoising AE with noise level: 0.01\n",
      "Epoch [1/5], Training Loss: 0.0431, Validation Loss: 0.0227\n",
      "Epoch [2/5], Training Loss: 0.0292, Validation Loss: 0.0227\n",
      "Epoch [3/5], Training Loss: 0.0273, Validation Loss: 0.0227\n",
      "Epoch [4/5], Training Loss: 0.0262, Validation Loss: 0.0227\n",
      "Epoch [5/5], Training Loss: 0.0255, Validation Loss: 0.0227\n",
      "Training denoising AE with noise level: 0.03\n",
      "Epoch [1/5], Training Loss: 0.0473, Validation Loss: 0.0228\n",
      "Epoch [2/5], Training Loss: 0.0318, Validation Loss: 0.0228\n",
      "Epoch [3/5], Training Loss: 0.0278, Validation Loss: 0.0228\n",
      "Epoch [4/5], Training Loss: 0.0263, Validation Loss: 0.0228\n",
      "Epoch [5/5], Training Loss: 0.0254, Validation Loss: 0.0228\n",
      "Training denoising AE with noise level: 0.1\n",
      "Epoch [1/5], Training Loss: 0.0456, Validation Loss: 0.0234\n",
      "Epoch [2/5], Training Loss: 0.0310, Validation Loss: 0.0234\n",
      "Epoch [3/5], Training Loss: 0.0291, Validation Loss: 0.0234\n",
      "Epoch [4/5], Training Loss: 0.0282, Validation Loss: 0.0234\n",
      "Epoch [5/5], Training Loss: 0.0276, Validation Loss: 0.0234\n",
      "Training denoising AE with noise level: 0.3\n",
      "Epoch [1/5], Training Loss: 0.0425, Validation Loss: 0.0286\n",
      "Epoch [2/5], Training Loss: 0.0284, Validation Loss: 0.0285\n",
      "Epoch [3/5], Training Loss: 0.0265, Validation Loss: 0.0285\n",
      "Epoch [4/5], Training Loss: 0.0255, Validation Loss: 0.0284\n",
      "Epoch [5/5], Training Loss: 0.0248, Validation Loss: 0.0284\n"
     ]
    }
   ],
   "source": [
    "# TODO: Train the denoising AE with different noise levels\n",
    "\n",
    "noise_levels = [0.01, 0.03, 0.1, 0.3]  # Noise levels to test\n",
    "denoising_models = {}  # Dictionary to store the trained denoising models\n",
    "train_losses = {}\n",
    "val_losses = {}\n",
    "\n",
    "for noise_level in noise_levels:\n",
    "    print(f\"Training denoising AE with noise level: {noise_level}\")\n",
    "    # Instantiate the model\n",
    "    denoising_ae = Autoencoder().to(device)\n",
    "\n",
    "    # Set the criterion and optimizer\n",
    "    criterion = nn.MSELoss() # Mean Squared Error loss\n",
    "    optimizer = optim.Adam(denoising_ae.parameters(), lr=1e-3) # Adam optimizer\n",
    "\n",
    "    # Store the training and validation losses\n",
    "    train_losses[noise_level] = []\n",
    "    val_losses[noise_level] = []\n",
    "\n",
    "    num_epochs = EPOCHS\n",
    "\n",
    "    for epoch in range(num_epochs):\n",
    "        denoising_ae.train()\n",
    "        running_train_loss = 0.0\n",
    "        running_val_loss = 0.0\n",
    "\n",
    "        # Training loop\n",
    "        for images in train_loader:\n",
    "            # Move images to device\n",
    "            images = images.to(device) \n",
    "            noisy_images = images + noise_level * torch.randn_like(images)\n",
    "            \n",
    "            # Zero the gradients\n",
    "            optimizer.zero_grad()\n",
    "            \n",
    "            # Forward pass\n",
    "            outputs = denoising_ae(noisy_images)\n",
    "        \n",
    "            # Compute loss\n",
    "            loss = criterion(outputs, images)\n",
    "            \n",
    "            # Backward pass and optimization\n",
    "            loss.backward()\n",
    "            optimizer.step()\n",
    "            \n",
    "            # Accumulate training loss\n",
    "            running_train_loss += loss.item() * images.size(0)\n",
    "        \n",
    "        # Compute average training loss for the epoch\n",
    "        train_loss = running_train_loss  / len(train_loader.dataset)\n",
    "        train_losses[noise_level].append(train_loss)\n",
    "\n",
    "        # Validation loop\n",
    "        undercomplete_ae.eval()  # Set model to evaluation mode\n",
    "        with torch.no_grad():  # Disable gradient calculation for validation\n",
    "            for images in val_loader:\n",
    "                # Move images to device\n",
    "                images = images.to(device)\n",
    "                noisy_images = images + noise_level * torch.randn_like(images)\n",
    "\n",
    "                # Forward pass\n",
    "                outputs = undercomplete_ae(noisy_images)\n",
    "\n",
    "                # Compute loss\n",
    "                loss = criterion(outputs, images)\n",
    "\n",
    "                # Accumulate validation loss\n",
    "                running_val_loss += loss.item()\n",
    "\n",
    "        # Compute average validation loss for the epoch\n",
    "        val_loss = running_val_loss / len(val_loader)\n",
    "        val_losses[noise_level].append(val_loss)\n",
    "\n",
    "        # Print training and validation statistics for the epoch\n",
    "        print(f'Epoch [{epoch+1}/{num_epochs}], Training Loss: {train_loss:.4f}, Validation Loss: {val_loss:.4f}')\n",
    "\n",
    "    denoising_models[noise_level] = denoising_ae\n"
   ]
  },
  {
   "cell_type": "markdown",
   "metadata": {},
   "source": [
    "#### II.2.4. Contractive AE"
   ]
  },
  {
   "cell_type": "markdown",
   "metadata": {},
   "source": [
    "## Image Generation with VAEs"
   ]
  },
  {
   "cell_type": "markdown",
   "metadata": {},
   "source": [
    "## Image interpolation"
   ]
  },
  {
   "cell_type": "markdown",
   "metadata": {},
   "source": [
    "## Visualization of the latent space"
   ]
  },
  {
   "cell_type": "markdown",
   "metadata": {},
   "source": [
    "# Transferable representations"
   ]
  },
  {
   "cell_type": "markdown",
   "metadata": {},
   "source": []
  }
 ],
 "metadata": {
  "kernelspec": {
   "display_name": ".venv",
   "language": "python",
   "name": "python3"
  },
  "language_info": {
   "codemirror_mode": {
    "name": "ipython",
    "version": 3
   },
   "file_extension": ".py",
   "mimetype": "text/x-python",
   "name": "python",
   "nbconvert_exporter": "python",
   "pygments_lexer": "ipython3",
   "version": "3.9.20"
  }
 },
 "nbformat": 4,
 "nbformat_minor": 2
}
